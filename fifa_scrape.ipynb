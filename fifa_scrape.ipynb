{
 "cells": [
  {
   "cell_type": "markdown",
   "id": "760a9126",
   "metadata": {},
   "source": [
    "### Import s"
   ]
  },
  {
   "cell_type": "code",
   "execution_count": 2,
   "id": "e6d70e17",
   "metadata": {},
   "outputs": [],
   "source": [
    "from selenium import webdriver\n",
    "from selenium.webdriver.chrome.service import Service\n",
    "from selenium.webdriver.common.keys import Keys\n",
    "from selenium.webdriver.support import expected_conditions as EC\n",
    "from selenium.webdriver.common.by import By\n",
    "from selenium.webdriver.support.ui import WebDriverWait\n"
   ]
  },
  {
   "cell_type": "markdown",
   "id": "35608bdc",
   "metadata": {},
   "source": [
    "### Download chromedriver\n",
    "[Chromdriver](https://chromedriver.storage.googleapis.com/index.html?path=114.0.5735.90/)"
   ]
  },
  {
   "cell_type": "code",
   "execution_count": 3,
   "id": "b3f0c676",
   "metadata": {},
   "outputs": [],
   "source": [
    "# Location of driver\n",
    "driver_service = Service(\"/Users/migashane/Other/chromedriver_mac64/chromedriver.exe\")\n",
    "\n",
    "# Read driver\n",
    "driver = webdriver.Chrome(service=driver_service)\n",
    "\n",
    "# read website to be scraped\n",
    "driver.get(\"https://fbref.com/en/squads/\")\n"
   ]
  },
  {
   "cell_type": "code",
   "execution_count": null,
   "id": "d1bad4d4",
   "metadata": {},
   "outputs": [],
   "source": []
  },
  {
   "cell_type": "code",
   "execution_count": null,
   "id": "743634b9",
   "metadata": {},
   "outputs": [],
   "source": []
  },
  {
   "cell_type": "code",
   "execution_count": null,
   "id": "3992c4e3",
   "metadata": {},
   "outputs": [],
   "source": []
  },
  {
   "cell_type": "code",
   "execution_count": null,
   "id": "2b13c620",
   "metadata": {},
   "outputs": [],
   "source": []
  }
 ],
 "metadata": {
  "kernelspec": {
   "display_name": "Python 3 (ipykernel)",
   "language": "python",
   "name": "python3"
  },
  "language_info": {
   "codemirror_mode": {
    "name": "ipython",
    "version": 3
   },
   "file_extension": ".py",
   "mimetype": "text/x-python",
   "name": "python",
   "nbconvert_exporter": "python",
   "pygments_lexer": "ipython3",
   "version": "3.10.9"
  }
 },
 "nbformat": 4,
 "nbformat_minor": 5
}
